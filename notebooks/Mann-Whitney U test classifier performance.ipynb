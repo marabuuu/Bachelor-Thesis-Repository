{
 "cells": [
  {
   "cell_type": "markdown",
   "id": "f1bcb1f3-8924-4135-8fd1-984f3ff0a9bf",
   "metadata": {
    "tags": []
   },
   "source": [
    "# Mann-Whitney U test classifier performance"
   ]
  },
  {
   "cell_type": "code",
   "execution_count": 1,
   "id": "b4c47c67-33af-482a-ab68-523a60fd91aa",
   "metadata": {},
   "outputs": [],
   "source": [
    "from library_crystals import accuracy_precision_table\n",
    "import pandas as pd \n",
    "from scipy.stats import mannwhitneyu"
   ]
  },
  {
   "cell_type": "code",
   "execution_count": 2,
   "id": "acf3c1f6-4809-4537-89ad-dda2acc6f7ac",
   "metadata": {},
   "outputs": [],
   "source": [
    "class_masks_folder = '../crystal data/4. binary masks & table/'\n",
    "label_folder = '../crystal data/3. excluded small labels/'"
   ]
  },
  {
   "cell_type": "code",
   "execution_count": 11,
   "id": "ccddd52f-7fe1-4e91-9f93-c96adadbc533",
   "metadata": {},
   "outputs": [],
   "source": [
    "intensity = accuracy_precision_table(filtered_table = 'intensity.csv', label_folder = label_folder, class_masks_folder = class_masks_folder, tabrowcl_filename = 'object_classifier_20220523_intensity.cl' , mann_whitney_table = 'mann_whitney_intensity.csv')"
   ]
  },
  {
   "cell_type": "code",
   "execution_count": 12,
   "id": "2eb0c5b9-23e0-4e5c-9374-a72589524d9e",
   "metadata": {},
   "outputs": [],
   "source": [
    "size = accuracy_precision_table(filtered_table = 'size.csv', label_folder = label_folder, class_masks_folder = class_masks_folder, tabrowcl_filename = 'object_classifier_20220523_size.cl' , mann_whitney_table = 'mann_whitney_size.csv')"
   ]
  },
  {
   "cell_type": "code",
   "execution_count": 17,
   "id": "4298fcc2-605a-431f-907d-cb7affdf9de8",
   "metadata": {},
   "outputs": [],
   "source": [
    "shape = accuracy_precision_table(filtered_table = 'shape.csv', label_folder = label_folder, class_masks_folder = class_masks_folder, tabrowcl_filename = 'object_classifier_20220523_shape.cl' , mann_whitney_table = 'mann_whitney_shape.csv')"
   ]
  },
  {
   "cell_type": "code",
   "execution_count": 20,
   "id": "6c1f97e3-0b88-4f7d-9631-8f37211a9a99",
   "metadata": {},
   "outputs": [],
   "source": [
    "size_intensity = accuracy_precision_table(filtered_table = 'size_intensity.csv', label_folder = label_folder, class_masks_folder = class_masks_folder, tabrowcl_filename = 'object_classifier_20220523_size_intensity.cl' , mann_whitney_table = 'mann_whitney_size_intensity.csv')"
   ]
  },
  {
   "cell_type": "code",
   "execution_count": 21,
   "id": "47a415fc-275f-4117-bf0c-a940315bd8fa",
   "metadata": {},
   "outputs": [],
   "source": [
    "shape_intensity = accuracy_precision_table(filtered_table = 'shape_intensity.csv', label_folder = label_folder, class_masks_folder = class_masks_folder, tabrowcl_filename = 'object_classifier_20220523_shape_intensity.cl' , mann_whitney_table = 'mann_whitney_shape_intensity.csv')"
   ]
  },
  {
   "cell_type": "code",
   "execution_count": 23,
   "id": "79a329f2-2cda-4ca3-acee-fd5c0645f7b5",
   "metadata": {},
   "outputs": [],
   "source": [
    "size_shape = accuracy_precision_table(filtered_table = 'size_shape.csv', label_folder = label_folder, class_masks_folder = class_masks_folder, tabrowcl_filename = 'object_classifier_20220523_size_shape.cl' , mann_whitney_table = 'mann_whitney_size_shape.csv')"
   ]
  },
  {
   "cell_type": "code",
   "execution_count": 24,
   "id": "2a997010-bbc8-4034-b042-bfe7231c1dbd",
   "metadata": {},
   "outputs": [],
   "source": [
    "all = accuracy_precision_table(filtered_table = 'size_shape_intensity.csv', label_folder = label_folder, class_masks_folder = class_masks_folder, tabrowcl_filename = 'object_classifier_20220523_size_shape_intensity.cl' , mann_whitney_table = 'mann_whitney_size_shape_intensity.csv')"
   ]
  },
  {
   "cell_type": "code",
   "execution_count": 25,
   "id": "83222ccb-c4b4-4937-8705-9a2d39a799a0",
   "metadata": {},
   "outputs": [],
   "source": [
    "intensity = pd.read_csv('mann_whitney_intensity.csv')\n",
    "size = pd.read_csv('mann_whitney_size.csv')\n",
    "shape = pd.read_csv('mann_whitney_shape.csv')\n",
    "size_intensity = pd.read_csv('mann_whitney_size_intensity.csv')\n",
    "shape_intensity = pd.read_csv('mann_whitney_shape_intensity.csv')\n",
    "size_shape = pd.read_csv('mann_whitney_size_shape.csv')\n",
    "all = pd.read_csv('mann_whitnea_size_shape_intensity.csv')"
   ]
  },
  {
   "cell_type": "code",
   "execution_count": 26,
   "id": "2bccdde1-f355-4946-ad76-b90d6f208900",
   "metadata": {},
   "outputs": [
    {
     "data": {
      "text/html": [
       "<div>\n",
       "<style scoped>\n",
       "    .dataframe tbody tr th:only-of-type {\n",
       "        vertical-align: middle;\n",
       "    }\n",
       "\n",
       "    .dataframe tbody tr th {\n",
       "        vertical-align: top;\n",
       "    }\n",
       "\n",
       "    .dataframe thead th {\n",
       "        text-align: right;\n",
       "    }\n",
       "</style>\n",
       "<table border=\"1\" class=\"dataframe\">\n",
       "  <thead>\n",
       "    <tr style=\"text-align: right;\">\n",
       "      <th></th>\n",
       "      <th>Unnamed: 0</th>\n",
       "      <th>accuracy</th>\n",
       "      <th>precision</th>\n",
       "    </tr>\n",
       "  </thead>\n",
       "  <tbody>\n",
       "    <tr>\n",
       "      <th>0</th>\n",
       "      <td>0</td>\n",
       "      <td>0.666667</td>\n",
       "      <td>0.600000</td>\n",
       "    </tr>\n",
       "    <tr>\n",
       "      <th>1</th>\n",
       "      <td>1</td>\n",
       "      <td>0.555556</td>\n",
       "      <td>0.500000</td>\n",
       "    </tr>\n",
       "    <tr>\n",
       "      <th>2</th>\n",
       "      <td>2</td>\n",
       "      <td>0.666667</td>\n",
       "      <td>0.636364</td>\n",
       "    </tr>\n",
       "    <tr>\n",
       "      <th>3</th>\n",
       "      <td>3</td>\n",
       "      <td>0.666667</td>\n",
       "      <td>0.666667</td>\n",
       "    </tr>\n",
       "    <tr>\n",
       "      <th>4</th>\n",
       "      <td>4</td>\n",
       "      <td>0.600000</td>\n",
       "      <td>0.600000</td>\n",
       "    </tr>\n",
       "    <tr>\n",
       "      <th>5</th>\n",
       "      <td>5</td>\n",
       "      <td>0.750000</td>\n",
       "      <td>0.750000</td>\n",
       "    </tr>\n",
       "    <tr>\n",
       "      <th>6</th>\n",
       "      <td>6</td>\n",
       "      <td>0.857143</td>\n",
       "      <td>0.833333</td>\n",
       "    </tr>\n",
       "    <tr>\n",
       "      <th>7</th>\n",
       "      <td>7</td>\n",
       "      <td>0.500000</td>\n",
       "      <td>0.500000</td>\n",
       "    </tr>\n",
       "    <tr>\n",
       "      <th>8</th>\n",
       "      <td>8</td>\n",
       "      <td>0.700000</td>\n",
       "      <td>0.700000</td>\n",
       "    </tr>\n",
       "    <tr>\n",
       "      <th>9</th>\n",
       "      <td>9</td>\n",
       "      <td>0.857143</td>\n",
       "      <td>0.857143</td>\n",
       "    </tr>\n",
       "    <tr>\n",
       "      <th>10</th>\n",
       "      <td>10</td>\n",
       "      <td>0.800000</td>\n",
       "      <td>0.800000</td>\n",
       "    </tr>\n",
       "    <tr>\n",
       "      <th>11</th>\n",
       "      <td>11</td>\n",
       "      <td>0.750000</td>\n",
       "      <td>0.714286</td>\n",
       "    </tr>\n",
       "    <tr>\n",
       "      <th>12</th>\n",
       "      <td>12</td>\n",
       "      <td>0.800000</td>\n",
       "      <td>0.800000</td>\n",
       "    </tr>\n",
       "  </tbody>\n",
       "</table>\n",
       "</div>"
      ],
      "text/plain": [
       "    Unnamed: 0  accuracy  precision\n",
       "0            0  0.666667   0.600000\n",
       "1            1  0.555556   0.500000\n",
       "2            2  0.666667   0.636364\n",
       "3            3  0.666667   0.666667\n",
       "4            4  0.600000   0.600000\n",
       "5            5  0.750000   0.750000\n",
       "6            6  0.857143   0.833333\n",
       "7            7  0.500000   0.500000\n",
       "8            8  0.700000   0.700000\n",
       "9            9  0.857143   0.857143\n",
       "10          10  0.800000   0.800000\n",
       "11          11  0.750000   0.714286\n",
       "12          12  0.800000   0.800000"
      ]
     },
     "execution_count": 26,
     "metadata": {},
     "output_type": "execute_result"
    }
   ],
   "source": [
    "intensity"
   ]
  },
  {
   "cell_type": "markdown",
   "id": "97f654b4-3c5a-4157-9d61-0abe4508c2e2",
   "metadata": {},
   "source": [
    "### intensity vs. size"
   ]
  },
  {
   "cell_type": "code",
   "execution_count": 15,
   "id": "cf5c78d3-2bb4-4136-9c6a-76809d083e56",
   "metadata": {},
   "outputs": [
    {
     "data": {
      "text/plain": [
       "MannwhitneyuResult(statistic=102.5, pvalue=0.38968963329038714)"
      ]
     },
     "execution_count": 15,
     "metadata": {},
     "output_type": "execute_result"
    }
   ],
   "source": [
    "mannwhitneyu(intensity['accuracy'], size['accuracy'], method='exact')"
   ]
  },
  {
   "cell_type": "code",
   "execution_count": 16,
   "id": "0ffb0638-c1d1-45da-9fa0-4c6b70802436",
   "metadata": {},
   "outputs": [
    {
     "data": {
      "text/plain": [
       "MannwhitneyuResult(statistic=97.5, pvalue=0.544604349749053)"
      ]
     },
     "execution_count": 16,
     "metadata": {},
     "output_type": "execute_result"
    }
   ],
   "source": [
    "mannwhitneyu(intensity['precision'], size['precision'], method='exact')"
   ]
  },
  {
   "cell_type": "markdown",
   "id": "cf5307da-7a99-48e1-8edd-ce294ba7ecb9",
   "metadata": {},
   "source": [
    "### intensity vs. shape"
   ]
  },
  {
   "cell_type": "code",
   "execution_count": 28,
   "id": "b778bd82-72ed-4460-9e25-4241a979bd28",
   "metadata": {},
   "outputs": [
    {
     "data": {
      "text/plain": [
       "MannwhitneyuResult(statistic=13.5, pvalue=9.730207872622733e-05)"
      ]
     },
     "execution_count": 28,
     "metadata": {},
     "output_type": "execute_result"
    }
   ],
   "source": [
    "mannwhitneyu(intensity['accuracy'], shape['accuracy'], method='exact')"
   ]
  },
  {
   "cell_type": "code",
   "execution_count": 29,
   "id": "0b5b3537-b83f-4a74-a1ef-e5e4902e3718",
   "metadata": {},
   "outputs": [
    {
     "data": {
      "text/plain": [
       "MannwhitneyuResult(statistic=20.0, pvalue=0.0004930484779724247)"
      ]
     },
     "execution_count": 29,
     "metadata": {},
     "output_type": "execute_result"
    }
   ],
   "source": [
    "mannwhitneyu(intensity['precision'], shape['precision'], method='exact')"
   ]
  },
  {
   "cell_type": "markdown",
   "id": "c2fdfc5a-2724-48ec-8550-481258b2eaec",
   "metadata": {},
   "source": [
    "### size vs. shape"
   ]
  },
  {
   "cell_type": "code",
   "execution_count": 30,
   "id": "b9584cfd-10f1-438f-9971-39376aa5c7df",
   "metadata": {},
   "outputs": [
    {
     "data": {
      "text/plain": [
       "MannwhitneyuResult(statistic=9.5, pvalue=2.6729227159971542e-05)"
      ]
     },
     "execution_count": 30,
     "metadata": {},
     "output_type": "execute_result"
    }
   ],
   "source": [
    "mannwhitneyu(size['accuracy'], shape['accuracy'], method='exact')"
   ]
  },
  {
   "cell_type": "code",
   "execution_count": 31,
   "id": "e88c50c8-4b10-4e84-9948-ce3d414ad41f",
   "metadata": {},
   "outputs": [
    {
     "data": {
      "text/plain": [
       "MannwhitneyuResult(statistic=16.5, pvalue=0.00022767917235544104)"
      ]
     },
     "execution_count": 31,
     "metadata": {},
     "output_type": "execute_result"
    }
   ],
   "source": [
    "mannwhitneyu(size['precision'], shape['precision'], method='exact')"
   ]
  },
  {
   "cell_type": "markdown",
   "id": "b99b77da-b057-413d-a8fb-9a52f8f2fe9b",
   "metadata": {},
   "source": [
    "### shape vs. shape-intensity"
   ]
  },
  {
   "cell_type": "code",
   "execution_count": 32,
   "id": "00266368-4d3f-463e-9923-90017996373d",
   "metadata": {},
   "outputs": [
    {
     "data": {
      "text/plain": [
       "MannwhitneyuResult(statistic=90.5, pvalue=0.8010418629694441)"
      ]
     },
     "execution_count": 32,
     "metadata": {},
     "output_type": "execute_result"
    }
   ],
   "source": [
    "mannwhitneyu(shape['accuracy'], shape_intensity['accuracy'], method='exact')"
   ]
  },
  {
   "cell_type": "code",
   "execution_count": 33,
   "id": "bb36da7d-6724-4530-b85f-a7dd31bbd0bd",
   "metadata": {},
   "outputs": [
    {
     "data": {
      "text/plain": [
       "MannwhitneyuResult(statistic=94.0, pvalue=0.6498475087975694)"
      ]
     },
     "execution_count": 33,
     "metadata": {},
     "output_type": "execute_result"
    }
   ],
   "source": [
    "mannwhitneyu(shape['precision'], shape_intensity['precision'], method='exact')"
   ]
  },
  {
   "cell_type": "markdown",
   "id": "19a1bfde-9cd4-4b2d-81c5-086f32b85d06",
   "metadata": {},
   "source": [
    "### size-int vs. int"
   ]
  },
  {
   "cell_type": "code",
   "execution_count": 34,
   "id": "d7120878-a1ed-4f6f-9915-832a19e3719e",
   "metadata": {},
   "outputs": [
    {
     "data": {
      "text/plain": [
       "MannwhitneyuResult(statistic=94.5, pvalue=0.6498475087975694)"
      ]
     },
     "execution_count": 34,
     "metadata": {},
     "output_type": "execute_result"
    }
   ],
   "source": [
    "mannwhitneyu(size_intensity['accuracy'], intensity['accuracy'], method='exact')"
   ]
  },
  {
   "cell_type": "code",
   "execution_count": 35,
   "id": "fcb309f9-e5db-4512-8b50-124ea848d186",
   "metadata": {},
   "outputs": [
    {
     "data": {
      "text/plain": [
       "MannwhitneyuResult(statistic=95.0, pvalue=0.6138697767436494)"
      ]
     },
     "execution_count": 35,
     "metadata": {},
     "output_type": "execute_result"
    }
   ],
   "source": [
    "mannwhitneyu(size_intensity['precision'], intensity['precision'], method='exact')"
   ]
  },
  {
   "cell_type": "markdown",
   "id": "f5affb6f-2d10-4071-937e-440c7d10a79b",
   "metadata": {},
   "source": [
    "### size-intensity vs. size"
   ]
  },
  {
   "cell_type": "code",
   "execution_count": 36,
   "id": "a45c447a-66b5-4946-8d64-0635883c7709",
   "metadata": {},
   "outputs": [
    {
     "data": {
      "text/plain": [
       "MannwhitneyuResult(statistic=111.5, pvalue=0.18568851797011712)"
      ]
     },
     "execution_count": 36,
     "metadata": {},
     "output_type": "execute_result"
    }
   ],
   "source": [
    "mannwhitneyu(size_intensity['accuracy'], size['accuracy'], method='exact')"
   ]
  },
  {
   "cell_type": "code",
   "execution_count": 37,
   "id": "a74d9735-091f-4d32-b9c2-528b35a80d13",
   "metadata": {},
   "outputs": [
    {
     "data": {
      "text/plain": [
       "MannwhitneyuResult(statistic=106.5, pvalue=0.2868578735842163)"
      ]
     },
     "execution_count": 37,
     "metadata": {},
     "output_type": "execute_result"
    }
   ],
   "source": [
    "mannwhitneyu(size_intensity['precision'], size['precision'], method='exact')"
   ]
  },
  {
   "cell_type": "markdown",
   "id": "db3d05c9-a589-45a1-87da-97effb93e612",
   "metadata": {},
   "source": [
    "### size-int vs. shape"
   ]
  },
  {
   "cell_type": "code",
   "execution_count": 38,
   "id": "d054665e-01b4-4218-8b05-a7640aae0a6e",
   "metadata": {},
   "outputs": [
    {
     "data": {
      "text/plain": [
       "MannwhitneyuResult(statistic=20.5, pvalue=0.0006280406899601946)"
      ]
     },
     "execution_count": 38,
     "metadata": {},
     "output_type": "execute_result"
    }
   ],
   "source": [
    "mannwhitneyu(size_intensity['accuracy'], shape['accuracy'], method='exact')"
   ]
  },
  {
   "cell_type": "code",
   "execution_count": 39,
   "id": "16ce4adc-cf32-40c1-a585-810054f8f837",
   "metadata": {},
   "outputs": [
    {
     "data": {
      "text/plain": [
       "MannwhitneyuResult(statistic=24.5, pvalue=0.0015499105820818032)"
      ]
     },
     "execution_count": 39,
     "metadata": {},
     "output_type": "execute_result"
    }
   ],
   "source": [
    "mannwhitneyu(size_intensity['precision'], shape['precision'], method='exact')"
   ]
  },
  {
   "cell_type": "markdown",
   "id": "544b4f7c-adc6-47f7-ad58-e35812b78856",
   "metadata": {},
   "source": [
    "### shape-int. vs. intensity"
   ]
  },
  {
   "cell_type": "code",
   "execution_count": 44,
   "id": "3eab5b92-e45f-42c5-98eb-daab15b5fa3a",
   "metadata": {},
   "outputs": [
    {
     "data": {
      "text/plain": [
       "MannwhitneyuResult(statistic=148.5, pvalue=0.0006280406899601946)"
      ]
     },
     "execution_count": 44,
     "metadata": {},
     "output_type": "execute_result"
    }
   ],
   "source": [
    "mannwhitneyu(shape_intensity['accuracy'], intensity['accuracy'], method='exact')"
   ]
  },
  {
   "cell_type": "code",
   "execution_count": 46,
   "id": "ed0e231d-f323-4cd4-b668-58ab77c4e87c",
   "metadata": {},
   "outputs": [
    {
     "data": {
      "text/plain": [
       "MannwhitneyuResult(statistic=141.5, pvalue=0.0028694498394323405)"
      ]
     },
     "execution_count": 46,
     "metadata": {},
     "output_type": "execute_result"
    }
   ],
   "source": [
    "mannwhitneyu(shape_intensity['precision'], intensity['precision'], method='exact')"
   ]
  },
  {
   "cell_type": "markdown",
   "id": "67967218-1f12-40b4-9ab2-0d56d182b4a4",
   "metadata": {},
   "source": [
    "### shape-int vs. size"
   ]
  },
  {
   "cell_type": "code",
   "execution_count": 45,
   "id": "dc01567e-4cb7-40ac-8ea5-ad846b368717",
   "metadata": {},
   "outputs": [
    {
     "data": {
      "text/plain": [
       "MannwhitneyuResult(statistic=155.0, pvalue=9.730207872622733e-05)"
      ]
     },
     "execution_count": 45,
     "metadata": {},
     "output_type": "execute_result"
    }
   ],
   "source": [
    "mannwhitneyu(shape_intensity['accuracy'], size['accuracy'], method='exact')"
   ]
  },
  {
   "cell_type": "code",
   "execution_count": 47,
   "id": "ced6a429-9ef3-4b4a-9113-0c228ebb43ca",
   "metadata": {},
   "outputs": [
    {
     "data": {
      "text/plain": [
       "MannwhitneyuResult(statistic=146.0, pvalue=0.0009989808280291522)"
      ]
     },
     "execution_count": 47,
     "metadata": {},
     "output_type": "execute_result"
    }
   ],
   "source": [
    "mannwhitneyu(shape_intensity['precision'], size['precision'], method='exact')"
   ]
  },
  {
   "cell_type": "markdown",
   "id": "887a0e40-884f-49f8-b35d-b89490716c6d",
   "metadata": {},
   "source": [
    "### shape-intensity vs. shape"
   ]
  },
  {
   "cell_type": "code",
   "execution_count": 48,
   "id": "e593fb1e-cfb0-4ffb-abf2-cc82b6e30637",
   "metadata": {},
   "outputs": [
    {
     "data": {
      "text/plain": [
       "MannwhitneyuResult(statistic=78.5, pvalue=0.8010418629694441)"
      ]
     },
     "execution_count": 48,
     "metadata": {},
     "output_type": "execute_result"
    }
   ],
   "source": [
    "mannwhitneyu(shape_intensity['accuracy'], shape['accuracy'], method='exact')"
   ]
  },
  {
   "cell_type": "code",
   "execution_count": 49,
   "id": "6ba72016-a68a-4c43-bffb-9aa714f9a096",
   "metadata": {},
   "outputs": [
    {
     "data": {
      "text/plain": [
       "MannwhitneyuResult(statistic=75.0, pvalue=0.6498475087975694)"
      ]
     },
     "execution_count": 49,
     "metadata": {},
     "output_type": "execute_result"
    }
   ],
   "source": [
    "mannwhitneyu(shape_intensity['precision'], shape['precision'], method='exact')"
   ]
  },
  {
   "cell_type": "markdown",
   "id": "cf5d38de-d4f9-4f17-92a2-8ae3a878b04e",
   "metadata": {},
   "source": [
    "### shape-int vs. size-int"
   ]
  },
  {
   "cell_type": "code",
   "execution_count": 50,
   "id": "c44111a7-a04c-4dc5-a0e4-9af5eb952b4e",
   "metadata": {},
   "outputs": [
    {
     "data": {
      "text/plain": [
       "MannwhitneyuResult(statistic=141.0, pvalue=0.0028694498394323405)"
      ]
     },
     "execution_count": 50,
     "metadata": {},
     "output_type": "execute_result"
    }
   ],
   "source": [
    "mannwhitneyu(shape_intensity['accuracy'], size_intensity['accuracy'], method='exact')"
   ]
  },
  {
   "cell_type": "code",
   "execution_count": 51,
   "id": "741170a0-c53a-4ebe-8e59-c7bc978bcef7",
   "metadata": {},
   "outputs": [
    {
     "data": {
      "text/plain": [
       "MannwhitneyuResult(statistic=136.5, pvalue=0.007243812856950561)"
      ]
     },
     "execution_count": 51,
     "metadata": {},
     "output_type": "execute_result"
    }
   ],
   "source": [
    "mannwhitneyu(shape_intensity['precision'], size_intensity['precision'], method='exact')"
   ]
  },
  {
   "cell_type": "markdown",
   "id": "692c4edb-d819-49db-8aec-d01334e4679f",
   "metadata": {},
   "source": [
    "### size-shape vs. intensity"
   ]
  },
  {
   "cell_type": "code",
   "execution_count": 52,
   "id": "62579085-d6bc-4d59-86cf-33124dbc0e1a",
   "metadata": {},
   "outputs": [
    {
     "data": {
      "text/plain": [
       "MannwhitneyuResult(statistic=160.0, pvalue=1.8652770032498127e-05)"
      ]
     },
     "execution_count": 52,
     "metadata": {},
     "output_type": "execute_result"
    }
   ],
   "source": [
    "mannwhitneyu(size_shape['accuracy'], intensity['accuracy'], method='exact')"
   ]
  },
  {
   "cell_type": "code",
   "execution_count": 53,
   "id": "a350ab21-e780-4dbd-ad49-35be99b32f34",
   "metadata": {},
   "outputs": [
    {
     "data": {
      "text/plain": [
       "MannwhitneyuResult(statistic=153.0, pvalue=0.00017325923504413207)"
      ]
     },
     "execution_count": 53,
     "metadata": {},
     "output_type": "execute_result"
    }
   ],
   "source": [
    "mannwhitneyu(size_shape['precision'], intensity['precision'], method='exact')"
   ]
  },
  {
   "cell_type": "markdown",
   "id": "23fda89c-cba9-4976-8f60-7732376afb32",
   "metadata": {},
   "source": [
    "### size-shape vs. size"
   ]
  },
  {
   "cell_type": "code",
   "execution_count": 54,
   "id": "b8a1045f-7fd8-42c0-afbb-9194d9ed0181",
   "metadata": {},
   "outputs": [
    {
     "data": {
      "text/plain": [
       "MannwhitneyuResult(statistic=163.0, pvalue=5.768897948195297e-06)"
      ]
     },
     "execution_count": 54,
     "metadata": {},
     "output_type": "execute_result"
    }
   ],
   "source": [
    "mannwhitneyu(size_shape['accuracy'], size['accuracy'], method='exact')"
   ]
  },
  {
   "cell_type": "code",
   "execution_count": 55,
   "id": "af4f1f9f-cb5f-4dd5-97db-223717eeabf7",
   "metadata": {},
   "outputs": [
    {
     "data": {
      "text/plain": [
       "MannwhitneyuResult(statistic=156.5, pvalue=7.172663115589485e-05)"
      ]
     },
     "execution_count": 55,
     "metadata": {},
     "output_type": "execute_result"
    }
   ],
   "source": [
    "mannwhitneyu(size_shape['precision'], size['precision'], method='exact')"
   ]
  },
  {
   "cell_type": "markdown",
   "id": "19aaae23-435d-47e4-b5b8-df5e43ae31e4",
   "metadata": {},
   "source": [
    "### size-shape vs. shape"
   ]
  },
  {
   "cell_type": "code",
   "execution_count": 40,
   "id": "0cf38468-d2a5-41a3-915d-052555b6390b",
   "metadata": {},
   "outputs": [
    {
     "data": {
      "text/plain": [
       "MannwhitneyuResult(statistic=93.0, pvalue=0.6866317327846471)"
      ]
     },
     "execution_count": 40,
     "metadata": {},
     "output_type": "execute_result"
    }
   ],
   "source": [
    "mannwhitneyu(size_shape['accuracy'], shape['accuracy'], method='exact')"
   ]
  },
  {
   "cell_type": "code",
   "execution_count": 41,
   "id": "f97d354d-fc48-4ed7-89b6-4635a592ddcf",
   "metadata": {},
   "outputs": [
    {
     "data": {
      "text/plain": [
       "MannwhitneyuResult(statistic=90.5, pvalue=0.8010418629694441)"
      ]
     },
     "execution_count": 41,
     "metadata": {},
     "output_type": "execute_result"
    }
   ],
   "source": [
    "mannwhitneyu(size_shape['precision'], shape['precision'], method='exact')"
   ]
  },
  {
   "cell_type": "markdown",
   "id": "c6e19dfd-a364-4b64-a1c6-bb2d62a2537b",
   "metadata": {},
   "source": [
    "### size-shape vs. size-int "
   ]
  },
  {
   "cell_type": "code",
   "execution_count": 56,
   "id": "4e8f265c-52fe-4816-ac3b-d723725d8624",
   "metadata": {},
   "outputs": [
    {
     "data": {
      "text/plain": [
       "MannwhitneyuResult(statistic=152.5, pvalue=0.00022767917235544104)"
      ]
     },
     "execution_count": 56,
     "metadata": {},
     "output_type": "execute_result"
    }
   ],
   "source": [
    "mannwhitneyu(size_shape['accuracy'], size_intensity['accuracy'], method='exact')"
   ]
  },
  {
   "cell_type": "code",
   "execution_count": 57,
   "id": "a71a03ff-26be-4b23-9a0c-6847ee23232e",
   "metadata": {},
   "outputs": [
    {
     "data": {
      "text/plain": [
       "MannwhitneyuResult(statistic=150.0, pvalue=0.00038401630675153356)"
      ]
     },
     "execution_count": 57,
     "metadata": {},
     "output_type": "execute_result"
    }
   ],
   "source": [
    "mannwhitneyu(size_shape['precision'], size_intensity['precision'], method='exact')"
   ]
  },
  {
   "cell_type": "markdown",
   "id": "76453e76-a276-4adb-a564-a3a017a5219c",
   "metadata": {},
   "source": [
    "### size-shape vs. shape-int "
   ]
  },
  {
   "cell_type": "code",
   "execution_count": 58,
   "id": "1f7d3151-d294-4f2e-9a03-7560fda5ad96",
   "metadata": {},
   "outputs": [
    {
     "data": {
      "text/plain": [
       "MannwhitneyuResult(statistic=98.5, pvalue=0.5114381862584851)"
      ]
     },
     "execution_count": 58,
     "metadata": {},
     "output_type": "execute_result"
    }
   ],
   "source": [
    "mannwhitneyu(size_shape['accuracy'], shape_intensity['accuracy'], method='exact')"
   ]
  },
  {
   "cell_type": "code",
   "execution_count": 59,
   "id": "db44c0f0-88ba-47f0-b6bf-938b66232e84",
   "metadata": {},
   "outputs": [
    {
     "data": {
      "text/plain": [
       "MannwhitneyuResult(statistic=98.5, pvalue=0.5114381862584851)"
      ]
     },
     "execution_count": 59,
     "metadata": {},
     "output_type": "execute_result"
    }
   ],
   "source": [
    "mannwhitneyu(size_shape['precision'], shape_intensity['precision'], method='exact')"
   ]
  },
  {
   "cell_type": "markdown",
   "id": "e5d63cfa-d43d-4913-be2c-80c2cdf044db",
   "metadata": {},
   "source": [
    "### all vs. intensity"
   ]
  },
  {
   "cell_type": "code",
   "execution_count": 60,
   "id": "9857b052-03ce-491c-a1a3-83733d0218dc",
   "metadata": {},
   "outputs": [
    {
     "data": {
      "text/plain": [
       "MannwhitneyuResult(statistic=144.5, pvalue=0.0015499105820818032)"
      ]
     },
     "execution_count": 60,
     "metadata": {},
     "output_type": "execute_result"
    }
   ],
   "source": [
    "mannwhitneyu(all['accuracy'], intensity['accuracy'], method='exact')"
   ]
  },
  {
   "cell_type": "code",
   "execution_count": 61,
   "id": "0aeaa2cc-a45a-43ef-8b7a-272aec18ef36",
   "metadata": {},
   "outputs": [
    {
     "data": {
      "text/plain": [
       "MannwhitneyuResult(statistic=141.5, pvalue=0.0028694498394323405)"
      ]
     },
     "execution_count": 61,
     "metadata": {},
     "output_type": "execute_result"
    }
   ],
   "source": [
    "mannwhitneyu(all['precision'], intensity['precision'], method='exact')"
   ]
  },
  {
   "cell_type": "markdown",
   "id": "2babf811-0f38-46bc-830c-8708640df0df",
   "metadata": {},
   "source": [
    "### all vs. size"
   ]
  },
  {
   "cell_type": "code",
   "execution_count": 62,
   "id": "de8d1479-76ec-4311-a73f-14235640b13d",
   "metadata": {},
   "outputs": [
    {
     "data": {
      "text/plain": [
       "MannwhitneyuResult(statistic=152.0, pvalue=0.00022767917235544104)"
      ]
     },
     "execution_count": 62,
     "metadata": {},
     "output_type": "execute_result"
    }
   ],
   "source": [
    "mannwhitneyu(all['accuracy'], size['accuracy'], method='exact')"
   ]
  },
  {
   "cell_type": "code",
   "execution_count": 63,
   "id": "0cc86296-a980-4967-86f7-5df56dcd41bb",
   "metadata": {},
   "outputs": [
    {
     "data": {
      "text/plain": [
       "MannwhitneyuResult(statistic=146.0, pvalue=0.0009989808280291522)"
      ]
     },
     "execution_count": 63,
     "metadata": {},
     "output_type": "execute_result"
    }
   ],
   "source": [
    "mannwhitneyu(all['precision'], size['precision'], method='exact')"
   ]
  },
  {
   "cell_type": "markdown",
   "id": "4eaa1909-0cf3-48a1-98a8-d106cce854b1",
   "metadata": {},
   "source": [
    "### all vs. shape"
   ]
  },
  {
   "cell_type": "code",
   "execution_count": 64,
   "id": "1fab16dc-b6ba-4596-8bbe-ef3d2e3af675",
   "metadata": {},
   "outputs": [
    {
     "data": {
      "text/plain": [
       "MannwhitneyuResult(statistic=76.5, pvalue=0.7241455300655731)"
      ]
     },
     "execution_count": 64,
     "metadata": {},
     "output_type": "execute_result"
    }
   ],
   "source": [
    "mannwhitneyu(all['accuracy'], shape['accuracy'], method='exact')"
   ]
  },
  {
   "cell_type": "code",
   "execution_count": 65,
   "id": "5b33ac19-f01a-4e22-8ad4-ceeeb2dd5647",
   "metadata": {},
   "outputs": [
    {
     "data": {
      "text/plain": [
       "MannwhitneyuResult(statistic=79.5, pvalue=0.8402509470607465)"
      ]
     },
     "execution_count": 65,
     "metadata": {},
     "output_type": "execute_result"
    }
   ],
   "source": [
    "mannwhitneyu(all['precision'], shape['precision'], method='exact')"
   ]
  },
  {
   "cell_type": "markdown",
   "id": "30c2de96-01cc-419d-b52b-f04da4c61367",
   "metadata": {},
   "source": [
    "### all vs. size_intensity"
   ]
  },
  {
   "cell_type": "code",
   "execution_count": 68,
   "id": "3e818ae5-81a6-4fa5-b242-07a3dac7ec9c",
   "metadata": {},
   "outputs": [
    {
     "data": {
      "text/plain": [
       "MannwhitneyuResult(statistic=136.5, pvalue=0.007243812856950561)"
      ]
     },
     "execution_count": 68,
     "metadata": {},
     "output_type": "execute_result"
    }
   ],
   "source": [
    "mannwhitneyu(all['accuracy'], size_intensity['accuracy'], method='exact')"
   ]
  },
  {
   "cell_type": "code",
   "execution_count": 69,
   "id": "8e9aa7a1-ef96-436b-b934-9b45c2b64eee",
   "metadata": {},
   "outputs": [
    {
     "data": {
      "text/plain": [
       "MannwhitneyuResult(statistic=136.0, pvalue=0.007243812856950561)"
      ]
     },
     "execution_count": 69,
     "metadata": {},
     "output_type": "execute_result"
    }
   ],
   "source": [
    "mannwhitneyu(all['precision'], size_intensity['precision'], method='exact')"
   ]
  },
  {
   "cell_type": "markdown",
   "id": "90bf67d8-5cda-459c-a2ad-247455a30919",
   "metadata": {},
   "source": [
    "### all vs. shape_intensity"
   ]
  },
  {
   "cell_type": "code",
   "execution_count": 70,
   "id": "082eb0fd-f91a-46a0-9980-1b8fd482497c",
   "metadata": {},
   "outputs": [
    {
     "data": {
      "text/plain": [
       "MannwhitneyuResult(statistic=82.0, pvalue=0.9197344383977848)"
      ]
     },
     "execution_count": 70,
     "metadata": {},
     "output_type": "execute_result"
    }
   ],
   "source": [
    "mannwhitneyu(all['accuracy'], shape_intensity['accuracy'], method='exact')"
   ]
  },
  {
   "cell_type": "code",
   "execution_count": 71,
   "id": "f64fe87d-1176-45b2-a9ba-86d48085aebc",
   "metadata": {},
   "outputs": [
    {
     "data": {
      "text/plain": [
       "MannwhitneyuResult(statistic=88.5, pvalue=0.879846547314578)"
      ]
     },
     "execution_count": 71,
     "metadata": {},
     "output_type": "execute_result"
    }
   ],
   "source": [
    "mannwhitneyu(all['precision'], shape_intensity['precision'], method='exact')"
   ]
  },
  {
   "cell_type": "markdown",
   "id": "4681262e-6702-46dc-badf-0366fd73a3e6",
   "metadata": {},
   "source": [
    "### all vs. size_shape"
   ]
  },
  {
   "cell_type": "code",
   "execution_count": 42,
   "id": "2f76fab4-2e0b-4a3d-a473-f0affef2008b",
   "metadata": {},
   "outputs": [
    {
     "data": {
      "text/plain": [
       "MannwhitneyuResult(statistic=101.5, pvalue=0.4184129761744515)"
      ]
     },
     "execution_count": 42,
     "metadata": {},
     "output_type": "execute_result"
    }
   ],
   "source": [
    "mannwhitneyu(all['accuracy'], size_shape['accuracy'], method='exact')"
   ]
  },
  {
   "cell_type": "code",
   "execution_count": 43,
   "id": "253cb3a7-3fe6-4e5d-b39b-1df703a09746",
   "metadata": {},
   "outputs": [
    {
     "data": {
      "text/plain": [
       "MannwhitneyuResult(statistic=94.0, pvalue=0.6498475087975694)"
      ]
     },
     "execution_count": 43,
     "metadata": {},
     "output_type": "execute_result"
    }
   ],
   "source": [
    "mannwhitneyu(all['precision'], size_shape['precision'], method='exact')"
   ]
  }
 ],
 "metadata": {
  "kernelspec": {
   "display_name": "Python 3 (ipykernel)",
   "language": "python",
   "name": "python3"
  },
  "language_info": {
   "codemirror_mode": {
    "name": "ipython",
    "version": 3
   },
   "file_extension": ".py",
   "mimetype": "text/x-python",
   "name": "python",
   "nbconvert_exporter": "python",
   "pygments_lexer": "ipython3",
   "version": "3.9.13"
  }
 },
 "nbformat": 4,
 "nbformat_minor": 5
}
