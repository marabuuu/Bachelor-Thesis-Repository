{
 "cells": [
  {
   "cell_type": "markdown",
   "id": "424039ee-92d2-451e-b1b7-65173a59821a",
   "metadata": {},
   "source": [
    "# 8.) Plotting good crystal labels training data in napari"
   ]
  },
  {
   "cell_type": "code",
   "execution_count": 1,
   "id": "8fd040d6-f3ef-41bd-82e3-9c0a8cc628a9",
   "metadata": {},
   "outputs": [],
   "source": [
    "import napari\n",
    "from napari_clusters_plotter._measure import MeasureWidget\n",
    "import pandas as pd\n",
    "from os import listdir\n",
    "from os.path import isfile, join\n",
    "from napari_time_slicer._function import convert_to_2d_timelapse\n",
    "from skimage.segmentation import relabel_sequential\n",
    "import numpy as np\n",
    "from skimage import measure\n",
    "import os"
   ]
  },
  {
   "cell_type": "code",
   "execution_count": 2,
   "id": "6e14b828-1d9b-4699-8c9b-0cfbe94a088e",
   "metadata": {},
   "outputs": [],
   "source": [
    "#change label number in table\n",
    "table = pd.read_csv(\"Trainingdata_good_crystals.csv\")\n",
    "table.loc[:,\"label\"] = np.arange(1,table.shape[0]+1)\n",
    "table\n",
    "table.to_csv(\"Measurements_relabeled_labels.csv\") "
   ]
  },
  {
   "cell_type": "code",
   "execution_count": 3,
   "id": "a1b9d350-c17d-4d89-b04e-0babe4f45e04",
   "metadata": {},
   "outputs": [
    {
     "name": "stderr",
     "output_type": "stream",
     "text": [
      "WARNING: Layer-backing can not be explicitly controlled on 10.14 when built against the 10.14 SDK\n",
      "/Users/mara/opt/anaconda3/envs/devbio-napari-env/lib/python3.9/site-packages/napari_tools_menu/__init__.py:168: FutureWarning: Public access to Window.qt_viewer is deprecated and will be removed in\n",
      "v0.5.0. It is considered an \"implementation detail\" of the napari\n",
      "application, not part of the napari viewer model. If your use case\n",
      "requires access to qt_viewer, please open an issue to discuss.\n",
      "  self.tools_menu = ToolsMenu(self, self.qt_viewer.viewer)\n"
     ]
    },
    {
     "name": "stdout",
     "output_type": "stream",
     "text": [
      "Measurement running\n",
      "Region properties source: Upload file\n"
     ]
    }
   ],
   "source": [
    "#get image folder and good crystal labels\n",
    "image_loc = \"/Users/mara/Desktop/Bachelorarbeit/Robert - PoL/20220523_training data/1. images/\"\n",
    "label_loc = \"/Users/mara/Desktop/Bachelorarbeit/Robert - PoL/20220523_training data/5. good crystal labels/\"\n",
    "\n",
    "#append directory and sort\n",
    "def get_sorted_image_list(directory):\n",
    "    files = [join(directory, f) for f in listdir(directory) if isfile(join(directory, f)) and f.endswith('tif')]\n",
    "    return sorted(files)\n",
    "all_image_locs = get_sorted_image_list(image_loc)\n",
    "all_label_locs = get_sorted_image_list(label_loc)\n",
    "\n",
    "#open napari \n",
    "viewer = napari.Viewer()\n",
    "viewer.open(all_image_locs,stack=True)\n",
    "viewer.open(all_label_locs,stack=True, layer_type = \"labels\")\n",
    "viewer.layers[0].name = \"images\"\n",
    "viewer.layers[1].name = \"labels\"\n",
    "\n",
    "#convert folders to 2D timelaps --> behaves like a stack\n",
    "image_layer = convert_to_2d_timelapse(viewer.layers[\"images\"],viewer)\n",
    "label_layer = convert_to_2d_timelapse(viewer.layers[\"labels\"],viewer)\n",
    "\n",
    "timelapse_label_image = np.asarray(label_layer.data)\n",
    "\n",
    "# relabel image \n",
    "relabeled_timelapse = []\n",
    "relabeled_image = np.zeros((1,))\n",
    "for i in range(timelapse_label_image.shape[0]):\n",
    "    relabeled_image,forward_map,inverse_map = relabel_sequential(timelapse_label_image[i], offset=relabeled_image.max()+1)\n",
    "    relabeled_timelapse.append(relabeled_image)\n",
    "\n",
    "relabeled_timelapse = np.asarray(relabeled_timelapse)\n",
    "\n",
    "#append images and labels to napari\n",
    "viewer.layers.append(image_layer)\n",
    "relabelled_layer = viewer.add_labels(relabeled_timelapse)\n",
    "viewer.layers.pop(\"images\")\n",
    "viewer.layers.pop(\"labels\")\n",
    "\n",
    "#open table\n",
    "widget = MeasureWidget(viewer)\n",
    "widget.run(\n",
    "    image_layer =image_layer,\n",
    "    labels_layer=relabelled_layer,\n",
    "    region_props_source=\"Upload file\",\n",
    "    reg_props_file =\"Measurements_relabeled_labels.csv\",\n",
    "    n_closest_points_str=\"[2,3,4]\",\n",
    ")"
   ]
  }
 ],
 "metadata": {
  "kernelspec": {
   "display_name": "Python 3 (ipykernel)",
   "language": "python",
   "name": "python3"
  },
  "language_info": {
   "codemirror_mode": {
    "name": "ipython",
    "version": 3
   },
   "file_extension": ".py",
   "mimetype": "text/x-python",
   "name": "python",
   "nbconvert_exporter": "python",
   "pygments_lexer": "ipython3",
   "version": "3.9.13"
  }
 },
 "nbformat": 4,
 "nbformat_minor": 5
}
