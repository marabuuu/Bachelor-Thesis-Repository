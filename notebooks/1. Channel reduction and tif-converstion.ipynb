{
 "cells": [
  {
   "cell_type": "markdown",
   "id": "66081bfb-d963-4750-bee5-6b1d001e6068",
   "metadata": {},
   "source": [
    "# 1. Channel reduction and tif-conversion"
   ]
  },
  {
   "cell_type": "code",
   "execution_count": 1,
   "id": "ea8253dd-384c-483d-9ea2-d6e962d6c5e2",
   "metadata": {},
   "outputs": [
    {
     "data": {
      "text/plain": [
       "<Intel(R) Iris(TM) Plus Graphics 640 on Platform: Apple (2 refs)>"
      ]
     },
     "execution_count": 1,
     "metadata": {},
     "output_type": "execute_result"
    }
   ],
   "source": [
    "import os\n",
    "import pyclesperanto_prototype as cle\n",
    "import napari\n",
    "from aicsimageio import AICSImage\n",
    "from aicsimageio.readers import BioformatsReader\n",
    "\n",
    "cle.select_device(\"Intel(R) Iris(TM) Plus Graphics 640\")"
   ]
  },
  {
   "cell_type": "code",
   "execution_count": null,
   "id": "aa8d4c33-95ae-49a3-aaf8-37da2aa2b65d",
   "metadata": {},
   "outputs": [],
   "source": [
    "image_folder = \"/Users/mara/Desktop/Bachelorarbeit/Rita - MPI/Pictures/images taken under same imaging conditions/\"\n",
    "tif_folder = \"/Users/mara/Desktop/Bachelorarbeit/Robert - PoL/20220619_training_data/\""
   ]
  },
  {
   "cell_type": "code",
   "execution_count": 3,
   "id": "b68a55ca-88e3-4ffc-b0f9-e4a7f1f8cf95",
   "metadata": {},
   "outputs": [],
   "source": [
    "os.makedirs(tif_folder, exist_ok=True)"
   ]
  },
  {
   "cell_type": "code",
   "execution_count": 4,
   "id": "8540ac4a-21ee-4e77-a97b-ed4fc26df514",
   "metadata": {},
   "outputs": [
    {
     "data": {
      "text/plain": [
       "['20220513_ET358_56hpf_2.czi',\n",
       " '20220513_ET358_56hpf_3.czi',\n",
       " '20220513_ET358_56hpf_1.czi',\n",
       " '20220513_ET358_56hpf_4.czi',\n",
       " '20220513_ET358_56hpf_5.czi',\n",
       " '20220513_ET358_56hpf_7.czi',\n",
       " '20220513_ET358_56hpf_6.czi',\n",
       " '20220520_hsp-mKate-DN-dynactin_56hpf_5.czi',\n",
       " '20220520_hsp-mKate-DN-dynactin_56hpf_4.czi',\n",
       " '20220520_hsp-mKate-DN-dynactin_56hpf_3.czi',\n",
       " '20220520_hsp-mKate-DN-dynactin_56hpf_2.czi',\n",
       " '20220520_hsp-mKate-DN-dynactin_56hpf_1_normal.czi',\n",
       " '20220429_ET358_56hpf_4.czi',\n",
       " '20220429_ET358_56hpf_2.czi',\n",
       " '20220429_ET358_56hpf_3.czi',\n",
       " '20220429_ET358_56hpf_1.czi',\n",
       " '20220513_ET358_56hpf_8.czi',\n",
       " '20220513_ET358_56hpf_9.czi']"
      ]
     },
     "execution_count": 4,
     "metadata": {},
     "output_type": "execute_result"
    }
   ],
   "source": [
    "file_list = os.listdir(image_folder)\n",
    "file_list"
   ]
  },
  {
   "cell_type": "code",
   "execution_count": 5,
   "id": "baaf2856-5f6e-4081-b2ab-ab479a8f6035",
   "metadata": {},
   "outputs": [
    {
     "name": "stderr",
     "output_type": "stream",
     "text": [
      "/Users/mara/opt/anaconda3/envs/devbio-napari-env/lib/python3.9/site-packages/napari_tools_menu/__init__.py:168: FutureWarning: Public access to Window.qt_viewer is deprecated and will be removed in\n",
      "v0.5.0. It is considered an \"implementation detail\" of the napari\n",
      "application, not part of the napari viewer model. If your use case\n",
      "requires access to qt_viewer, please open an issue to discuss.\n",
      "  self.tools_menu = ToolsMenu(self, self.qt_viewer.viewer)\n"
     ]
    }
   ],
   "source": [
    "viewer = napari.Viewer()"
   ]
  },
  {
   "cell_type": "markdown",
   "id": "17e494a8-7828-4ac9-982d-6ecca0982952",
   "metadata": {},
   "source": [
    "### Function"
   ]
  },
  {
   "cell_type": "code",
   "execution_count": 7,
   "id": "d5bef417-a8a7-4e61-8c22-b8c418654e82",
   "metadata": {},
   "outputs": [],
   "source": [
    "def data_selection(filename, image_folder, viewer):\n",
    "    '''\n",
    "    this function loads one image slice by slice in napari\n",
    "    '''\n",
    "    \n",
    "    from aicsimageio import AICSImage\n",
    "    from aicsimageio.readers import BioformatsReader\n",
    "    \n",
    "    #load image\n",
    "    image = AICSImage(image_folder + filename, reader = BioformatsReader)\n",
    "    original = image.data\n",
    "    \n",
    "    #select reflection channel\n",
    "    channel2 = original[0,2]\n",
    "    \n",
    "    #add every slice of the stack to napari\n",
    "    for slc in range(channel2.shape[0]):\n",
    "        layer2 = viewer.add_image(channel2[slc], colormap = 'cyan', blending = 'translucent')"
   ]
  },
  {
   "cell_type": "code",
   "execution_count": 9,
   "id": "06d90897-415f-45b2-8d6b-0ea5173a4f0c",
   "metadata": {},
   "outputs": [],
   "source": [
    "data_selection(filename=file_list[0], image_folder=image_folder,viewer=viewer)"
   ]
  },
  {
   "cell_type": "markdown",
   "id": "69b1dd12-5abc-4b83-9dcf-8fe72dec685b",
   "metadata": {},
   "source": [
    "### Other possible Approaches"
   ]
  },
  {
   "cell_type": "code",
   "execution_count": null,
   "id": "af128739-7ed7-4a44-8b6b-395860a4ced6",
   "metadata": {},
   "outputs": [],
   "source": [
    "#loop through all images \n",
    "for i, filename in enumerate(file_list):\n",
    "    image = AICSImage(image_folder + filename, reader=BioformatsReader)\n",
    "    original = image.data\n",
    "\n",
    "    channel2 = original[0,2]\n",
    "    for slc in range(channel2.shape[0]):\n",
    "        layer2 = viewer.add_image(channel2[slc], colormap = 'cyan', blending = 'additive')"
   ]
  },
  {
   "cell_type": "code",
   "execution_count": 9,
   "id": "1e23f241-9d0b-401b-a05c-5fe2bf88e7d2",
   "metadata": {},
   "outputs": [],
   "source": [
    "#to load only one image with all slices in napari\n",
    "i = 8\n",
    "image = AICSImage(image_folder + file_list[i], reader=BioformatsReader)\n",
    "original = image.data\n",
    "channel2 = original[0,2]\n",
    "for slc in range(channel2.shape[0]):\n",
    "    layer2 = viewer.add_image(channel2[slc], colormap = 'cyan', blending = 'translucent')\n"
   ]
  }
 ],
 "metadata": {
  "kernelspec": {
   "display_name": "Python 3 (ipykernel)",
   "language": "python",
   "name": "python3"
  },
  "language_info": {
   "codemirror_mode": {
    "name": "ipython",
    "version": 3
   },
   "file_extension": ".py",
   "mimetype": "text/x-python",
   "name": "python",
   "nbconvert_exporter": "python",
   "pygments_lexer": "ipython3",
   "version": "3.9.13"
  }
 },
 "nbformat": 4,
 "nbformat_minor": 5
}
