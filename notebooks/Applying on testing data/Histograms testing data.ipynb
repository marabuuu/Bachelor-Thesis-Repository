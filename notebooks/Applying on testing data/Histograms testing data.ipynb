{
 "cells": [
  {
   "cell_type": "markdown",
   "id": "97af186f-2395-4504-8183-afbd567dcf6b",
   "metadata": {},
   "source": [
    "# Histograms testing data"
   ]
  },
  {
   "cell_type": "code",
   "execution_count": 1,
   "id": "b30969cc-5430-4790-938c-91ad3ff24d53",
   "metadata": {},
   "outputs": [],
   "source": [
    "import pandas as pd\n",
    "import matplotlib.pyplot as plt\n",
    "import seaborn as sns\n",
    "\n",
    "from napari_clusters_plotter._utilities import get_nice_colormap\n",
    "colormap_dict = {i: color for i,color in enumerate(get_nice_colormap())}"
   ]
  },
  {
   "cell_type": "code",
   "execution_count": 5,
   "id": "a9e833e5-8ceb-4b9d-afaa-0654bcd72f9a",
   "metadata": {},
   "outputs": [],
   "source": [
    "table = pd.read_csv(\"/Users/mara/Desktop/Bachelorarbeit/Robert - PoL/beautiful notebooks <3/4. Applying on testing data/Testingdata_good_crystals.csv\")"
   ]
  },
  {
   "cell_type": "code",
   "execution_count": 6,
   "id": "2676f8dc-58a4-4503-bc88-8b943177164f",
   "metadata": {},
   "outputs": [
    {
     "data": {
      "text/plain": [
       "(0.0, 500.0)"
      ]
     },
     "execution_count": 6,
     "metadata": {},
     "output_type": "execute_result"
    },
    {
     "data": {
      "image/png": "[encoded data removed]",
      "text/plain": [
       "<Figure size 432x288 with 1 Axes>"
      ]
     },
     "metadata": {
      "needs_background": "light"
     },
     "output_type": "display_data"
    }
   ],
   "source": [
    "fig, axis = plt.subplots()\n",
    "\n",
    "sns.histplot(data=table, x=\"area_norm\", binwidth= 20,palette=colormap_dict,ax=axis) \n",
    "axis.set_xlim(0,500)"
   ]
  },
  {
   "cell_type": "code",
   "execution_count": 7,
   "id": "b9b8cb00-e603-4f63-a023-079bc2d2ff1c",
   "metadata": {},
   "outputs": [
    {
     "data": {
      "text/plain": [
       "(0.0, 5.0)"
      ]
     },
     "execution_count": 7,
     "metadata": {},
     "output_type": "execute_result"
    },
    {
     "data": {
      "image/png": "[encoded data removed]",
      "text/plain": [
       "<Figure size 432x288 with 1 Axes>"
      ]
     },
     "metadata": {
      "needs_background": "light"
     },
     "output_type": "display_data"
    }
   ],
   "source": [
    "fig, axis = plt.subplots()\n",
    "\n",
    "sns.histplot(data=table, x=\"aspect_ratio_norm\", binwidth=0.1,palette=colormap_dict,ax=axis) \n",
    "axis.set_xlim(0,5)"
   ]
  },
  {
   "cell_type": "code",
   "execution_count": null,
   "id": "3dedfa28-820e-446b-a8bc-223bfd9df00b",
   "metadata": {},
   "outputs": [],
   "source": []
  }
 ],
 "metadata": {
  "kernelspec": {
   "display_name": "Python 3 (ipykernel)",
   "language": "python",
   "name": "python3"
  },
  "language_info": {
   "codemirror_mode": {
    "name": "ipython",
    "version": 3
   },
   "file_extension": ".py",
   "mimetype": "text/x-python",
   "name": "python",
   "nbconvert_exporter": "python",
   "pygments_lexer": "ipython3",
   "version": "3.9.12"
  }
 },
 "nbformat": 4,
 "nbformat_minor": 5
}
