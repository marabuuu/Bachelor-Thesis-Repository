{
 "cells": [
  {
   "cell_type": "markdown",
   "id": "7195c811-35b2-4147-9b19-81c62d2d9902",
   "metadata": {},
   "source": [
    "# Filter after correlation "
   ]
  },
  {
   "cell_type": "code",
   "execution_count": 1,
   "id": "d68b294f-29f8-432f-bfea-07fb69e40525",
   "metadata": {},
   "outputs": [],
   "source": [
    "import pandas as pd\n",
    "import numpy as np"
   ]
  },
  {
   "cell_type": "code",
   "execution_count": 2,
   "id": "22f8bbd8-4a04-492c-a6fb-417db66ce237",
   "metadata": {},
   "outputs": [],
   "source": [
    "excluded_labels = pd.read_csv(\"Measurements_already_on_excluded_labels.csv\")"
   ]
  },
  {
   "cell_type": "code",
   "execution_count": 3,
   "id": "55ead19a-3a2c-4f30-ad20-89ff2bfb0f9e",
   "metadata": {},
   "outputs": [
    {
     "name": "stdout",
     "output_type": "stream",
     "text": [
      "\n",
      "['bbox_area', 'convex_area', 'equivalent_diameter', 'perimeter_skimage', 'perimeter_crofton', 'feret_diameter_max', 'major_axis_length', 'standard_deviation_intensity', 'maximum', 'mean', 'minimum', 'sigma', 'elongation', 'feret_diameter', 'flatness', 'roundness_simpleitk', 'equivalent_ellipsoid_diameter_0', 'equivalent_ellipsoid_diameter_1', 'equivalent_spherical_perimeter', 'equivalent_spherical_radius', 'number_of_pixels', 'perimeter_simpleitk', 'perimeter_on_border']\n"
     ]
    },
    {
     "name": "stderr",
     "output_type": "stream",
     "text": [
      "/var/folders/ss/9k23w8zd78n4h7c7p0271ljc0000gn/T/ipykernel_4833/3588749205.py:3: DeprecationWarning: `np.bool` is a deprecated alias for the builtin `bool`. To silence this warning, use `bool` by itself. Doing this will not modify any behavior and is safe. If you specifically wanted the numpy scalar type, use `np.bool_` here.\n",
      "Deprecated in NumPy 1.20; for more details and guidance: https://numpy.org/devdocs/release/1.20.0-notes.html#deprecations\n",
      "  upper_tri = cor_matrix.where(np.triu(np.ones(cor_matrix.shape),k=1).astype(np.bool))\n"
     ]
    },
    {
     "data": {
      "text/plain": [
       "Index(['Unnamed: 0', 'label', 'area', 'max_intensity', 'mean_intensity',\n",
       "       'min_intensity', 'solidity', 'extent', 'local_centroid-0',\n",
       "       'local_centroid-1', 'minor_axis_length', 'orientation', 'eccentricity',\n",
       "       'aspect_ratio', 'roundness_skimage', 'circularity', 'median', 'sum',\n",
       "       'variance', 'number_of_pixels_on_border', 'perimeter_on_border_ratio',\n",
       "       'filename'],\n",
       "      dtype='object')"
      ]
     },
     "execution_count": 3,
     "metadata": {},
     "output_type": "execute_result"
    }
   ],
   "source": [
    "#ask for measurements that are correlating > 0.95 \n",
    "cor_matrix = excluded_labels.corr().abs()\n",
    "upper_tri = cor_matrix.where(np.triu(np.ones(cor_matrix.shape),k=1).astype(np.bool))\n",
    "to_drop = [column for column in upper_tri.columns if any(upper_tri[column] > 0.95)]\n",
    "print(); print(to_drop)\n",
    "\n",
    "#drop measurements that are correlating > 0.95\n",
    "correlation_filtered = excluded_labels.drop(to_drop, axis=1)\n",
    "correlation_filtered.columns"
   ]
  },
  {
   "cell_type": "code",
   "execution_count": null,
   "id": "8271f434-c3b5-41d2-a824-7a7c1fdab12a",
   "metadata": {},
   "outputs": [],
   "source": []
  }
 ],
 "metadata": {
  "kernelspec": {
   "display_name": "Python 3 (ipykernel)",
   "language": "python",
   "name": "python3"
  },
  "language_info": {
   "codemirror_mode": {
    "name": "ipython",
    "version": 3
   },
   "file_extension": ".py",
   "mimetype": "text/x-python",
   "name": "python",
   "nbconvert_exporter": "python",
   "pygments_lexer": "ipython3",
   "version": "3.9.13"
  }
 },
 "nbformat": 4,
 "nbformat_minor": 5
}
