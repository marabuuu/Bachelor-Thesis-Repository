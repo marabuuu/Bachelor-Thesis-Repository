{
 "cells": [
  {
   "cell_type": "markdown",
   "id": "15fee2ed-980b-4d1a-a31a-1e261c31d9aa",
   "metadata": {},
   "source": [
    "# Figure 5.06: Small label exclusion"
   ]
  },
  {
   "cell_type": "code",
   "execution_count": 16,
   "id": "39cd2c59-0e87-4083-8158-c8b4307a7126",
   "metadata": {},
   "outputs": [],
   "source": [
    "import pandas as pd\n",
    "import seaborn as sns\n",
    "import matplotlib as mpl\n",
    "import matplotlib.pyplot as plt"
   ]
  },
  {
   "cell_type": "code",
   "execution_count": 17,
   "id": "3dcc5326-9284-4da5-90eb-69ae42bb4ad6",
   "metadata": {},
   "outputs": [],
   "source": [
    "all_labels_training = pd.read_csv(\"Measurements_with_frame_clustering_with_GMM.csv\")"
   ]
  },
  {
   "cell_type": "code",
   "execution_count": 20,
   "id": "0abc6b00-0cec-4a92-a30c-d97ae5094af2",
   "metadata": {},
   "outputs": [],
   "source": [
    "area = all_labels_training['area_norm']"
   ]
  },
  {
   "cell_type": "code",
   "execution_count": 30,
   "id": "aa69fed7-a1f4-48df-9f8e-31a5207dbfb8",
   "metadata": {},
   "outputs": [],
   "source": [
    "threshold = 50"
   ]
  },
  {
   "cell_type": "code",
   "execution_count": 34,
   "id": "1284e287-6ac8-4cf6-93cf-7fa8eeed6fd0",
   "metadata": {},
   "outputs": [
    {
     "data": {
      "text/plain": [
       "Text(0.5, 1.0, 'Distribution of labels before small label exclusion')"
      ]
     },
     "execution_count": 34,
     "metadata": {},
     "output_type": "execute_result"
    },
    {
     "data": {
      "image/png": "[encoded data removed]",
      "text/plain": [
       "<Figure size 432x288 with 1 Axes>"
      ]
     },
     "metadata": {
      "needs_background": "light"
     },
     "output_type": "display_data"
    }
   ],
   "source": [
    "fig, axis = plt.subplots()\n",
    "\n",
    "axis.hist(area, label='Area training data', bins = 500, alpha=0.7, color = '#79bafa', edgecolor='black', range = (0,6000))\n",
    "axis.set_xlim(0,500)\n",
    "axis.axvline(threshold, color = '#ae0001', label = 'threshold')\n",
    "axis.set_xlabel('area')\n",
    "axis.set_ylabel('count')\n",
    "axis.legend()\n",
    "axis.set_title('Distribution of labels before small label exclusion')"
   ]
  },
  {
   "cell_type": "code",
   "execution_count": 3,
   "id": "72c83cf2-fbcb-4242-ba5a-d0f35e38ab66",
   "metadata": {},
   "outputs": [
    {
     "data": {
      "text/plain": [
       "[0, 0, 0, 0, 0]"
      ]
     },
     "execution_count": 3,
     "metadata": {},
     "output_type": "execute_result"
    }
   ],
   "source": [
    "area_threshold = 50\n",
    "thresholded_groups = [0 if area < 50 else 1 for area in regprops[\"area_norm\"]]\n",
    "thresholded_groups[:5]"
   ]
  },
  {
   "cell_type": "code",
   "execution_count": 4,
   "id": "03d44312-b311-4165-aceb-7d5b7b454c17",
   "metadata": {},
   "outputs": [],
   "source": [
    "regprops[\"thresholded_groups\"] = thresholded_groups"
   ]
  },
  {
   "cell_type": "code",
   "execution_count": 8,
   "id": "fe500edc-0b2e-4cd9-9cd0-5a5ee0a47fe2",
   "metadata": {},
   "outputs": [],
   "source": [
    "from napari_clusters_plotter._utilities import get_nice_colormap\n",
    "\n",
    "colormap_dict = {i: color for i,color in enumerate(get_nice_colormap())}"
   ]
  }
 ],
 "metadata": {
  "kernelspec": {
   "display_name": "Python 3 (ipykernel)",
   "language": "python",
   "name": "python3"
  },
  "language_info": {
   "codemirror_mode": {
    "name": "ipython",
    "version": 3
   },
   "file_extension": ".py",
   "mimetype": "text/x-python",
   "name": "python",
   "nbconvert_exporter": "python",
   "pygments_lexer": "ipython3",
   "version": "3.9.13"
  }
 },
 "nbformat": 4,
 "nbformat_minor": 5
}
